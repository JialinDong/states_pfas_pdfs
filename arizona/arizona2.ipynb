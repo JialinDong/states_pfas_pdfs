{
 "cells": [
  {
   "cell_type": "code",
   "execution_count": 1,
   "id": "89088be2",
   "metadata": {},
   "outputs": [],
   "source": [
    "import numpy as np\n",
    "import pandas as pd\n",
    "import camelot\n",
    "\n",
    "pd.set_option('display.max_rows', None)\n",
    "pd.set_option('display.max_columns', None)"
   ]
  },
  {
   "cell_type": "code",
   "execution_count": 2,
   "id": "ac9d1062",
   "metadata": {},
   "outputs": [],
   "source": [
    "def clean_table(table, has_pfa = True):\n",
    "    if has_pfa == True:\n",
    "        table.columns = [\"Sample Date\", \"Location\", \"PFOS\", \"PFOA\", \"Combined\", \n",
    "                      \"PFOS/PFOA EPA Advisory Level\", \"Other Combined PFAs\"]\n",
    "    else:\n",
    "        table.columns = [\"Sample Date\", \"Location\", \"PFOS\", \"PFOA\", \"Combined\", \n",
    "                      \"PFOS/PFOA EPA Advisory Level\"]\n",
    "    table = table.iloc[4:].reset_index(drop = True)\n",
    "    table[\"Sample Date\"] = table[\"Sample Date\"].replace('', None).fillna(method = \"ffill\")\n",
    "    return table"
   ]
  },
  {
   "cell_type": "markdown",
   "id": "bf8273dc",
   "metadata": {},
   "source": [
    "### Table 1"
   ]
  },
  {
   "cell_type": "code",
   "execution_count": 3,
   "id": "7e4b7095",
   "metadata": {},
   "outputs": [],
   "source": [
    "table1 = camelot.read_pdf(\"arizona2.pdf\", flavor = \"stream\", pages = \"1\")[0].df"
   ]
  },
  {
   "cell_type": "code",
   "execution_count": 4,
   "id": "cb276ba4",
   "metadata": {},
   "outputs": [],
   "source": [
    "table1 = clean_table(table1)"
   ]
  },
  {
   "cell_type": "markdown",
   "id": "f90425c7",
   "metadata": {},
   "source": [
    "### Table 2"
   ]
  },
  {
   "cell_type": "code",
   "execution_count": 5,
   "id": "63ccc213",
   "metadata": {},
   "outputs": [],
   "source": [
    "table2 = camelot.read_pdf(\"arizona2.pdf\", flavor = \"stream\", pages = \"2\")[0].df\n",
    "table2 = table2.drop(4)\n",
    "table2 = table2.drop(9)\n",
    "\n",
    "table2 = clean_table(table2)"
   ]
  },
  {
   "cell_type": "code",
   "execution_count": 6,
   "id": "6be0cd8d",
   "metadata": {},
   "outputs": [],
   "source": [
    "arizona2 = pd.concat([table1, table2], ignore_index = True)"
   ]
  },
  {
   "cell_type": "markdown",
   "id": "36c02cdd",
   "metadata": {},
   "source": [
    "### Table 3"
   ]
  },
  {
   "cell_type": "code",
   "execution_count": 7,
   "id": "1a364da9",
   "metadata": {},
   "outputs": [],
   "source": [
    "table3 = camelot.read_pdf(\"arizona2.pdf\", flavor = \"stream\", pages = \"3\")[0].df\n",
    "table3 = clean_table(table3, has_pfa = False)"
   ]
  },
  {
   "cell_type": "code",
   "execution_count": 8,
   "id": "7ba0a7af",
   "metadata": {},
   "outputs": [],
   "source": [
    "arizona2 = pd.concat([arizona2, table3], ignore_index = True)"
   ]
  },
  {
   "cell_type": "markdown",
   "id": "a9edceeb",
   "metadata": {},
   "source": [
    "### Table 4"
   ]
  },
  {
   "cell_type": "code",
   "execution_count": 9,
   "id": "2a560211",
   "metadata": {},
   "outputs": [],
   "source": [
    "table4 = camelot.read_pdf(\"arizona2.pdf\", flavor = \"stream\", pages = \"4\")[0].df\n",
    "table4 = clean_table(table4, has_pfa = False)"
   ]
  },
  {
   "cell_type": "code",
   "execution_count": 10,
   "id": "f380f256",
   "metadata": {},
   "outputs": [],
   "source": [
    "arizona2 = pd.concat([arizona2, table4], ignore_index = True)"
   ]
  },
  {
   "cell_type": "markdown",
   "id": "83e08e7b",
   "metadata": {},
   "source": [
    "### Table 5"
   ]
  },
  {
   "cell_type": "code",
   "execution_count": 11,
   "id": "3d83fafd",
   "metadata": {},
   "outputs": [],
   "source": [
    "table5 = camelot.read_pdf(\"arizona2.pdf\", flavor = \"stream\", pages = \"5\")[0].df\n",
    "table5 = clean_table(table5, has_pfa = False)"
   ]
  },
  {
   "cell_type": "code",
   "execution_count": 12,
   "id": "b680d5ca",
   "metadata": {},
   "outputs": [],
   "source": [
    "arizona2 = pd.concat([arizona2, table5], ignore_index = True)"
   ]
  },
  {
   "cell_type": "markdown",
   "id": "08521f24",
   "metadata": {},
   "source": [
    "### Table 6"
   ]
  },
  {
   "cell_type": "code",
   "execution_count": 13,
   "id": "a530c96e",
   "metadata": {},
   "outputs": [],
   "source": [
    "table6 = camelot.read_pdf(\"arizona2.pdf\", flavor = \"stream\", pages = \"6\")[0].df\n",
    "table6 = clean_table(table6)"
   ]
  },
  {
   "cell_type": "code",
   "execution_count": 14,
   "id": "938918da",
   "metadata": {},
   "outputs": [],
   "source": [
    "arizona2 = pd.concat([arizona2, table6], ignore_index = True)"
   ]
  },
  {
   "cell_type": "markdown",
   "id": "cbc04ddb",
   "metadata": {},
   "source": [
    "### Table 7"
   ]
  },
  {
   "cell_type": "code",
   "execution_count": 15,
   "id": "d94fd52c",
   "metadata": {},
   "outputs": [],
   "source": [
    "table7 = camelot.read_pdf(\"arizona2.pdf\", flavor = \"stream\", pages = \"7\")[0].df\n",
    "table7 = clean_table(table7, has_pfa = False)"
   ]
  },
  {
   "cell_type": "code",
   "execution_count": 16,
   "id": "20a5f680",
   "metadata": {},
   "outputs": [],
   "source": [
    "arizona2 = pd.concat([arizona2, table7], ignore_index = True)"
   ]
  },
  {
   "cell_type": "code",
   "execution_count": 17,
   "id": "d8404196",
   "metadata": {},
   "outputs": [],
   "source": [
    "arizona2.to_csv(\"arizona2.csv\")"
   ]
  }
 ],
 "metadata": {
  "kernelspec": {
   "display_name": "Python 3 (ipykernel)",
   "language": "python",
   "name": "python3"
  },
  "language_info": {
   "codemirror_mode": {
    "name": "ipython",
    "version": 3
   },
   "file_extension": ".py",
   "mimetype": "text/x-python",
   "name": "python",
   "nbconvert_exporter": "python",
   "pygments_lexer": "ipython3",
   "version": "3.9.18"
  }
 },
 "nbformat": 4,
 "nbformat_minor": 5
}
