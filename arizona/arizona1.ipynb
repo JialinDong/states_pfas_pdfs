{
 "cells": [
  {
   "cell_type": "code",
   "execution_count": 1,
   "id": "2f82611f",
   "metadata": {},
   "outputs": [],
   "source": [
    "import pandas as pd\n",
    "import numpy as np\n",
    "import camelot\n",
    "import warnings\n",
    "warnings.filterwarnings('ignore')\n",
    "import re"
   ]
  },
  {
   "cell_type": "code",
   "execution_count": 2,
   "id": "12df2abc",
   "metadata": {},
   "outputs": [],
   "source": [
    "tables = camelot.read_pdf(\"arizona1.pdf\", pages = \"all\")"
   ]
  },
  {
   "cell_type": "code",
   "execution_count": 12,
   "id": "3f05860f",
   "metadata": {},
   "outputs": [],
   "source": [
    "table1 = tables[1].df\n",
    "table1 = table1.iloc[:, 3:11]\n",
    "table1.loc[table1.index, 8] = table1.loc[table1.index, 8].replace('', '-')"
   ]
  },
  {
   "cell_type": "code",
   "execution_count": 13,
   "id": "7c4c17d3",
   "metadata": {},
   "outputs": [],
   "source": [
    "def clean_table(table):\n",
    "    # create an empty df to populate and return\n",
    "    cleaned_df = pd.DataFrame(columns = [\"Sampling Location\", \"Sampling Date\", \"Sampling Time\", \"Analyte\",\n",
    "                                         \"Sampling Method\", \"Qual\", \"Amount\"])\n",
    "    \n",
    "    # iterate through each row in table\n",
    "    for idx in np.arange(table.shape[0]):\n",
    "        row_values = np.array(table.iloc[idx].values)\n",
    "        row_values = row_values[row_values != '']\n",
    "        \n",
    "        if len(row_values) < 7:\n",
    "            # Define a regular expression pattern\n",
    "            pattern = r'(\\d{1,2}:\\d{1,2})\\s(.*)'\n",
    "\n",
    "            # Use re.match() to search for the pattern in the text\n",
    "            match = re.match(pattern, row_values[2])\n",
    "            time = match.group(1)\n",
    "            pfas = match.group(2)\n",
    "            \n",
    "            row_values = np.concatenate((row_values[:2], [time], [pfas], row_values[-3:]))\n",
    "        \n",
    "        cleaned_df.loc[idx] = row_values\n",
    "        \n",
    "        cleaned_df[\"Analyte\"] = cleaned_df[\"Analyte\"].replace(\"\\n\", \" \", regex = True)\n",
    "    return cleaned_df"
   ]
  },
  {
   "cell_type": "code",
   "execution_count": 14,
   "id": "ad0d0f30",
   "metadata": {},
   "outputs": [],
   "source": [
    "arizona1 = clean_table(table1)"
   ]
  },
  {
   "cell_type": "code",
   "execution_count": 15,
   "id": "1995e131",
   "metadata": {},
   "outputs": [],
   "source": [
    "for idx in np.arange(2, 5):\n",
    "    table = clean_table(tables[idx].df)\n",
    "    arizona1 = pd.concat([arizona1, table], ignore_index = True)"
   ]
  },
  {
   "cell_type": "code",
   "execution_count": 16,
   "id": "db608cf1",
   "metadata": {},
   "outputs": [],
   "source": [
    "arizona1[\"Sampling Location ID\"] = ([\"AZ0407093\"] * arizona1.shape[0])"
   ]
  },
  {
   "cell_type": "code",
   "execution_count": 17,
   "id": "d0332172",
   "metadata": {},
   "outputs": [],
   "source": [
    "arizona1.to_csv(\"arizona1.csv\")"
   ]
  }
 ],
 "metadata": {
  "kernelspec": {
   "display_name": "Python 3 (ipykernel)",
   "language": "python",
   "name": "python3"
  },
  "language_info": {
   "codemirror_mode": {
    "name": "ipython",
    "version": 3
   },
   "file_extension": ".py",
   "mimetype": "text/x-python",
   "name": "python",
   "nbconvert_exporter": "python",
   "pygments_lexer": "ipython3",
   "version": "3.9.18"
  }
 },
 "nbformat": 4,
 "nbformat_minor": 5
}
