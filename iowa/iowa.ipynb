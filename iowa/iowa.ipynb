{
 "cells": [
  {
   "cell_type": "code",
   "execution_count": 1,
   "id": "407ac375",
   "metadata": {},
   "outputs": [],
   "source": [
    "import camelot\n",
    "import pandas as pd"
   ]
  },
  {
   "cell_type": "code",
   "execution_count": 2,
   "id": "5af15368",
   "metadata": {},
   "outputs": [],
   "source": [
    "tables = camelot.read_pdf('iowa.pdf', pages = '1,2,3')"
   ]
  },
  {
   "cell_type": "code",
   "execution_count": 3,
   "id": "b1225273",
   "metadata": {},
   "outputs": [],
   "source": [
    "df = pd.DataFrame()\n",
    "\n",
    "for table in tables:\n",
    "    df = pd.concat([df, table.df], axis = 0)\n",
    "    \n",
    "df = df.reset_index(drop = True)"
   ]
  },
  {
   "cell_type": "code",
   "execution_count": 4,
   "id": "824a91a3",
   "metadata": {},
   "outputs": [],
   "source": [
    "df.columns = df.iloc[0]  # Set the first row as column headers\n",
    "df = df[1:]"
   ]
  },
  {
   "cell_type": "code",
   "execution_count": 7,
   "id": "382ec274",
   "metadata": {},
   "outputs": [],
   "source": [
    "# rename some columns \n",
    "df.rename(columns={'COLLECTION\\nDATE': 'Collection Date', 'FACILITY\\nID': 'Facility ID'}, inplace=True)"
   ]
  },
  {
   "cell_type": "code",
   "execution_count": 8,
   "id": "c76c8cd6",
   "metadata": {},
   "outputs": [],
   "source": [
    "df.to_csv(\"iowa.csv\")"
   ]
  }
 ],
 "metadata": {
  "kernelspec": {
   "display_name": "Python 3 (ipykernel)",
   "language": "python",
   "name": "python3"
  },
  "language_info": {
   "codemirror_mode": {
    "name": "ipython",
    "version": 3
   },
   "file_extension": ".py",
   "mimetype": "text/x-python",
   "name": "python",
   "nbconvert_exporter": "python",
   "pygments_lexer": "ipython3",
   "version": "3.9.18"
  }
 },
 "nbformat": 4,
 "nbformat_minor": 5
}
