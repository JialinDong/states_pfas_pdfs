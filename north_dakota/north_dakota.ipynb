{
 "cells": [
  {
   "cell_type": "code",
   "execution_count": 1,
   "id": "635d0065",
   "metadata": {},
   "outputs": [],
   "source": [
    "import numpy as np\n",
    "import pandas as pd\n",
    "import camelot"
   ]
  },
  {
   "cell_type": "markdown",
   "id": "73249522",
   "metadata": {},
   "source": [
    "# PDF 1"
   ]
  },
  {
   "cell_type": "code",
   "execution_count": 2,
   "id": "afdbaea6",
   "metadata": {},
   "outputs": [],
   "source": [
    "tables1 = camelot.read_pdf(\"northdakota1.pdf\")"
   ]
  },
  {
   "cell_type": "code",
   "execution_count": 3,
   "id": "da5aa200",
   "metadata": {},
   "outputs": [],
   "source": [
    "north_dakota1 = tables1[0].df\n",
    "north_dakota1 = north_dakota1.replace(\"\\n\", \" \", regex = True)\n",
    "north_dakota1.iloc[4, 1] = 70\n",
    "north_dakota1.to_csv(\"north_dakota1.csv\")"
   ]
  },
  {
   "cell_type": "markdown",
   "id": "4820339e",
   "metadata": {},
   "source": [
    "# PDF 2"
   ]
  },
  {
   "cell_type": "code",
   "execution_count": 4,
   "id": "0cda8f74",
   "metadata": {},
   "outputs": [],
   "source": [
    "tables2 = camelot.read_pdf(\"northdakota2.pdf\")"
   ]
  },
  {
   "cell_type": "code",
   "execution_count": 5,
   "id": "c89b54b0",
   "metadata": {},
   "outputs": [],
   "source": [
    "north_dakota2 = tables2[0].df\n",
    "north_dakota2 = north_dakota2.replace(\"\\n\", \" \", regex = True)\n",
    "north_dakota2.iloc[2, 0] = \"PFOS\"\n",
    "north_dakota2.iloc[3, 0] = \"PFOA\"\n",
    "north_dakota2.iloc[3, 1] = 70\n",
    "north_dakota2.to_csv(\"north_dakota2.csv\")"
   ]
  }
 ],
 "metadata": {
  "kernelspec": {
   "display_name": "Python 3 (ipykernel)",
   "language": "python",
   "name": "python3"
  },
  "language_info": {
   "codemirror_mode": {
    "name": "ipython",
    "version": 3
   },
   "file_extension": ".py",
   "mimetype": "text/x-python",
   "name": "python",
   "nbconvert_exporter": "python",
   "pygments_lexer": "ipython3",
   "version": "3.9.18"
  }
 },
 "nbformat": 4,
 "nbformat_minor": 5
}
