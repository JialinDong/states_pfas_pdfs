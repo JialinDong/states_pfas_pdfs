{
 "cells": [
  {
   "cell_type": "code",
   "execution_count": 1,
   "id": "b51a17fd",
   "metadata": {},
   "outputs": [],
   "source": [
    "import camelot\n",
    "import pandas as pd\n",
    "import numpy as np\n",
    "\n",
    "pd.set_option('display.max_rows', None)\n",
    "pd.set_option('display.max_columns', None)"
   ]
  },
  {
   "cell_type": "code",
   "execution_count": 2,
   "id": "332a63d4",
   "metadata": {},
   "outputs": [],
   "source": [
    "tables = camelot.read_pdf(\"alaska.pdf\", pages = \"1,2,3,4,5\")"
   ]
  },
  {
   "cell_type": "code",
   "execution_count": 3,
   "id": "1d6ed136",
   "metadata": {},
   "outputs": [],
   "source": [
    "def clean_table(df):\n",
    "    # new empty dataframe\n",
    "    cleaned_df = dict()\n",
    "    for i in np.arange(1, df.shape[0]):\n",
    "        # grab all the contents of each row\n",
    "        row = df.loc[i]\n",
    "        text = [i.split(\"\\n\") for i in row]\n",
    "        cleaned_row = np.array([item for sublist in text for item in sublist])\n",
    "    \n",
    "        # append the newly cleaned row to the dataframe\n",
    "        cleaned_df[i] = cleaned_row\n",
    "    return pd.DataFrame.from_dict(cleaned_df, orient = 'index').reset_index(drop = True)\n",
    "\n",
    "def swap_values(df, coord1, coord2):\n",
    "    '''\n",
    "    swaps the values of df at coord1 and coord2\n",
    "    '''\n",
    "    temp = df.iloc[coord2]\n",
    "    df.iloc[coord2] = df.iloc[coord1]\n",
    "    df.iloc[coord1] = temp\n",
    "    \n",
    "def impute_shift(df, coord, replacement_value):\n",
    "    '''\n",
    "    coord: the coordinate to start shifting values\n",
    "    replacement_value: the value to impute into coord once pushed\n",
    "    '''\n",
    "    # grab the whole row an convert to an array\n",
    "    row_idx, col_idx = coord[0], coord[1]\n",
    "    row = np.array(df.iloc[row_idx].values)\n",
    "    \n",
    "    # remove any instances of None\n",
    "    row = row[row != None]\n",
    "    \n",
    "    # impute the replacement value into the column-th index of the row\n",
    "    row = np.insert(row, col_idx, replacement_value)\n",
    "    \n",
    "    # re-insert that updated row back into the dataframe\n",
    "    df.iloc[row_idx] = row"
   ]
  },
  {
   "cell_type": "markdown",
   "id": "1b91471f",
   "metadata": {},
   "source": [
    "# First Table"
   ]
  },
  {
   "cell_type": "code",
   "execution_count": 4,
   "id": "e8bb394c",
   "metadata": {},
   "outputs": [],
   "source": [
    "table1 = clean_table(tables[0].df)\n",
    "swap_values(table1, (1,1), (1,2))\n",
    "swap_values(table1, (17,0), (17,1))\n",
    "impute_shift(table1, (16,1), \"70†\")"
   ]
  },
  {
   "cell_type": "code",
   "execution_count": 5,
   "id": "dc5251cd",
   "metadata": {},
   "outputs": [],
   "source": [
    "# fix the names\n",
    "col_names = [\"Analyte\", \"EPA LHA\", \"Units\", \"MW-1-15, 10/26/2021\", \"MW-1-40, 10/26/2021\", \"MW-2-20, 10/26/2021\", \n",
    "            \"MW-2-20, Duplicate\", \"MW-2-30, 10/26/2021\", \"MW-3-15, 10/26/2021\", \"MW-3-40, 10/26/2021\",\n",
    "            \"MW-4-20, 10/25/2021\", \"MW-5-20, 10/25/2021\", \"MW-6-20, 10/26/2021\", \"MW-7-20, 10/25/2021\",\n",
    "            \"MW-8-20, 10/25/2021\", \"MW-9-30, 10/25/2021\", \"MW-9-30, Duplicate\", \"MW-10-20, 10/25/2021\",\n",
    "            \"MW-11-15, 10/31/2021\", \"MW-12-10, 10/31/2021\", \"MW-12-10, Duplicate\"]\n",
    "table1.columns = col_names"
   ]
  },
  {
   "cell_type": "markdown",
   "id": "babc5c7b",
   "metadata": {},
   "source": [
    "# Table 2"
   ]
  },
  {
   "cell_type": "code",
   "execution_count": 6,
   "id": "5dff2931",
   "metadata": {},
   "outputs": [],
   "source": [
    "table2 = clean_table(tables[1].df)\n",
    "swap_values(table2, (1,1), (1,2))\n",
    "swap_values(table2, (17,0), (17,1))\n",
    "impute_shift(table2, (16,1), \"70†\")"
   ]
  },
  {
   "cell_type": "code",
   "execution_count": 7,
   "id": "d0f62709",
   "metadata": {
    "scrolled": true
   },
   "outputs": [],
   "source": [
    "# fix the names\n",
    "col_names = [\"Analyte\", \"EPA LHA\", \"Units\", \"MW-9-10, 10/25/2021\", \"MW-13-20, 10/27/2021\", \"MW-13-45, 10/27/2021\", \n",
    "            \"MW-13-45, Duplicate\", \"MW-14-15, 11/1/2021\", \"MW-14-31, 11/1/2021\", \"MW-15-15, 11/3/2021\",\n",
    "            \"MW-14-45, 11/3/2021\", \"MW-14-45, Duplicate\", \"MW-16-15, 11/2/2021\", \"MW-17-20, 10/26/2021\",\n",
    "            \"MW-17-40, 10/26/2021\", \"MW-17-40, Duplicate\", \"MW-18-15, 11/4/2021\", \"MW-18-50, 11/4/2021\",\n",
    "            \"MW-18-50, Duplicate\", \"MW-19-15, 11/5/2021\"]\n",
    "table2.columns = col_names"
   ]
  },
  {
   "cell_type": "markdown",
   "id": "d137c708",
   "metadata": {},
   "source": [
    "# Table 3"
   ]
  },
  {
   "cell_type": "code",
   "execution_count": 8,
   "id": "ec4972bb",
   "metadata": {},
   "outputs": [],
   "source": [
    "table3 = clean_table(tables[2].df)\n",
    "swap_values(table3, (1,1), (1,2))\n",
    "swap_values(table3, (17,0), (17,1))\n",
    "impute_shift(table3, (16,1), \"70†\")"
   ]
  },
  {
   "cell_type": "code",
   "execution_count": 9,
   "id": "5cd905dc",
   "metadata": {
    "scrolled": true
   },
   "outputs": [],
   "source": [
    "# fix the names\n",
    "col_names = [\"Analyte\", \"EPA LHA\", \"Units\", \"MW-19-50, 11/5/2021\", \"MW-19-50, Duplicate\", \"MW-20-15, 11/4/2021\", \n",
    "            \"MW-20-40, 11/4/2021\", \"MW-21-15, 11/1/2021\", \"MW-21-45, 11/1/2021\", \"MW-21-45, Duplicate\",\n",
    "            \"MW-22-15, 10/30/2021\", \"MW-22-40, 10/30/2021\", \"MW-23-20, 10/24/2021\", \"MW-23-50, 10/25/2021\",\n",
    "            \"MW-23-50, Duplicate\", \"MW-24-10, 10/29/2021\", \"MW-24-30, 10/29/2021\", \"MW-25-15, 10/28/2021\",\n",
    "            \"MW-25-47, 10/29/2021\", \"MW-25-47, Duplicate\", \"GAC 2021, 11/5/2021\"]\n",
    "table3.columns = col_names"
   ]
  },
  {
   "cell_type": "markdown",
   "id": "b656b97f",
   "metadata": {},
   "source": [
    "# Table 4"
   ]
  },
  {
   "cell_type": "code",
   "execution_count": 10,
   "id": "b4f7774c",
   "metadata": {},
   "outputs": [],
   "source": [
    "table4 = clean_table(tables[3].df)\n",
    "swap_values(table4, (17,0), (17,1))\n",
    "impute_shift(table4, (16,1), \"70†\")"
   ]
  },
  {
   "cell_type": "code",
   "execution_count": 11,
   "id": "009a5b31",
   "metadata": {
    "scrolled": true
   },
   "outputs": [],
   "source": [
    "# fix the names\n",
    "col_names = [\"Analyte\", \"EPA LHA\", \"Units\", \"21GST-TWP-1, 10/27/2021\", \"21GST-TWP-2, 10/27/2021\", \"21GST-TWP-3, 10/28/2021\", \n",
    "            \"21GST-TWP-3, Duplicate\", \"21GST-TWP-4, 10/28/2021\", \"21GST-TWP-5, 10/28/2021\", \"21GST-TWP-6, 10/30/2021\",\n",
    "            \"21GST-TWP-7, 10/30/2021\", \"21GST-TWP-8, 10/28/2021\", \"21GST-TWP-9, 10/30/2021\", \"21GST-TWP-10, 10/27/2021\"]\n",
    "table4.columns = col_names"
   ]
  },
  {
   "cell_type": "markdown",
   "id": "37bfcfb2",
   "metadata": {},
   "source": [
    "# Table 5"
   ]
  },
  {
   "cell_type": "code",
   "execution_count": 12,
   "id": "f5a6f041",
   "metadata": {},
   "outputs": [],
   "source": [
    "table5 = clean_table(tables[4].df)\n",
    "swap_values(table5, (17,0), (17,1))\n",
    "impute_shift(table5, (16,1), \"70†\")"
   ]
  },
  {
   "cell_type": "code",
   "execution_count": 13,
   "id": "203fd4a0",
   "metadata": {
    "scrolled": true
   },
   "outputs": [],
   "source": [
    "# fix the names\n",
    "col_names = [\"Analyte\", \"EPA LHA\", \"Units\", \"21GST-TWP-11, 10/30/2021\", \"21GST-TWP-11, Duplicate\", \"21GST-TWP-12, 10/30/2021\", \n",
    "            \"21GST-TWP-13, 10/24/2021\", \"21GST-TWP-14, 10/24/2021\", \"21GST-TWP-14, Duplicate\", \"21GST-TWP-15, 10/27/2021\",\n",
    "            \"21GST-TWP-15, Duplicate\", \"PW-016, 10/26/2021\"]\n",
    "table5.columns = col_names"
   ]
  },
  {
   "cell_type": "code",
   "execution_count": 14,
   "id": "e264af53",
   "metadata": {},
   "outputs": [],
   "source": [
    "table1 = table1.set_index(\"Analyte\")\n",
    "table2 = table2.set_index(\"Analyte\")\n",
    "table3 = table3.set_index(\"Analyte\")\n",
    "table4 = table4.set_index(\"Analyte\")\n",
    "table5 = table5.set_index(\"Analyte\")\n",
    "\n",
    "df = pd.concat([table1, table2, table3, table4, table5], axis = 1).reset_index(drop = True)\n",
    "df.to_csv(\"alaska.csv\")"
   ]
  }
 ],
 "metadata": {
  "kernelspec": {
   "display_name": "Python 3 (ipykernel)",
   "language": "python",
   "name": "python3"
  },
  "language_info": {
   "codemirror_mode": {
    "name": "ipython",
    "version": 3
   },
   "file_extension": ".py",
   "mimetype": "text/x-python",
   "name": "python",
   "nbconvert_exporter": "python",
   "pygments_lexer": "ipython3",
   "version": "3.9.18"
  }
 },
 "nbformat": 4,
 "nbformat_minor": 5
}
