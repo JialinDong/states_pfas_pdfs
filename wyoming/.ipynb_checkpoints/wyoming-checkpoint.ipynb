{
 "cells": [
  {
   "cell_type": "code",
   "execution_count": 1,
   "id": "8a354ecd",
   "metadata": {},
   "outputs": [],
   "source": [
    "import camelot\n",
    "import numpy as np\n",
    "import pandas as pd"
   ]
  },
  {
   "cell_type": "code",
   "execution_count": 2,
   "id": "3bdfb4ec",
   "metadata": {},
   "outputs": [],
   "source": [
    "tables = camelot.read_pdf('wyoming.pdf', pages = '1,2,3,4,5')"
   ]
  },
  {
   "cell_type": "code",
   "execution_count": 3,
   "id": "effb8394",
   "metadata": {
    "scrolled": true
   },
   "outputs": [],
   "source": [
    "df = pd.DataFrame()\n",
    "\n",
    "for table in tables:\n",
    "    df = pd.concat([df, table.df], axis = 0)\n",
    "    \n",
    "df = df.reset_index(drop = True)"
   ]
  },
  {
   "cell_type": "code",
   "execution_count": 4,
   "id": "277a0efc",
   "metadata": {},
   "outputs": [],
   "source": [
    "# task 1\n",
    "df = df.drop(index=df.index[0], columns=df.columns[0]).reset_index(drop = True)"
   ]
  },
  {
   "cell_type": "code",
   "execution_count": 5,
   "id": "034915a9",
   "metadata": {},
   "outputs": [],
   "source": [
    "# task 2\n",
    "df = df.replace('\\n', ' ', regex=True)"
   ]
  },
  {
   "cell_type": "code",
   "execution_count": 6,
   "id": "bd0d85b7",
   "metadata": {},
   "outputs": [],
   "source": [
    "# task 3\n",
    "df.columns = df.iloc[0]  # Set the first row as column headers\n",
    "df = df[1:]"
   ]
  },
  {
   "cell_type": "code",
   "execution_count": 7,
   "id": "315d3860",
   "metadata": {
    "scrolled": true
   },
   "outputs": [],
   "source": [
    "# task 4\n",
    "df[\"TT or TH Sample ID\"] = df[\"TT or TH Sample ID\"].replace(\"\", None)\n",
    "df[\"TT or TH Sample ID\"] = df[\"TT or TH Sample ID\"].fillna(method = \"ffill\")"
   ]
  },
  {
   "cell_type": "code",
   "execution_count": 8,
   "id": "74e7d3be",
   "metadata": {},
   "outputs": [],
   "source": [
    "# task 5 - manually impute the last two rows\n",
    "col_names = df.columns\n",
    "new_row1 = {\n",
    "    col_names[0]: \"WW-9\",\n",
    "    col_names[1]: \"Aug-21\",\n",
    "    col_names[2]: \"ND\",\n",
    "    col_names[3]: 25,\n",
    "    col_names[4]: 25\n",
    "}\n",
    "new_row2 = {\n",
    "    col_names[0]: \"WW-9\",\n",
    "    col_names[1]: \"May-22\",\n",
    "    col_names[2]: 1.0,\n",
    "    col_names[3]: 14,\n",
    "    col_names[4]: 15\n",
    "}\n",
    "df = df.reset_index(drop = True)\n",
    "df.loc[len(df)] = new_row1\n",
    "df.loc[len(df)] = new_row2"
   ]
  },
  {
   "cell_type": "code",
   "execution_count": 9,
   "id": "0c66bbe1",
   "metadata": {},
   "outputs": [],
   "source": [
    "df.to_csv(\"wyoming.csv\")"
   ]
  }
 ],
 "metadata": {
  "kernelspec": {
   "display_name": "Python 3 (ipykernel)",
   "language": "python",
   "name": "python3"
  },
  "language_info": {
   "codemirror_mode": {
    "name": "ipython",
    "version": 3
   },
   "file_extension": ".py",
   "mimetype": "text/x-python",
   "name": "python",
   "nbconvert_exporter": "python",
   "pygments_lexer": "ipython3",
   "version": "3.9.18"
  }
 },
 "nbformat": 4,
 "nbformat_minor": 5
}
