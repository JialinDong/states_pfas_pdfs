{
 "cells": [
  {
   "cell_type": "code",
   "execution_count": 1,
   "id": "64cdc319",
   "metadata": {},
   "outputs": [],
   "source": [
    "import pandas as pd\n",
    "import numpy as np\n",
    "import camelot\n",
    "\n",
    "# Set display options to show all rows and columns\n",
    "pd.set_option('display.max_rows', None)  # Set to None to display all rows\n",
    "pd.set_option('display.max_columns', None)  # Set to None to display all columns"
   ]
  },
  {
   "cell_type": "markdown",
   "id": "9a673dc7",
   "metadata": {},
   "source": [
    "# Table 1"
   ]
  },
  {
   "cell_type": "code",
   "execution_count": 2,
   "id": "63c3edd6",
   "metadata": {},
   "outputs": [],
   "source": [
    "table1_dict = {\n",
    "    \"Sampling Location\": [\"MW-BNA01-01\", \"MW-BNA05-01\", None, \"BNA04-SW1\", \"BNA05-SW1\"],\n",
    "    \"Sample Identifier\": [\"MW-BNA01-01-01\", \"MW-BNA05-01-01\", \"MW-BNA05-01-01D\", \"BNA04-SW1-01\", \"BNA05-SW1-01\"],\n",
    "    \"Sample Date\": [\"03/09/18\", \"03/09/18\", \"03/09/18\", \"03/09/18\", \"03/09/18\"],\n",
    "    \"Sample Depth (ft)\": [\"15.5-25.5\", \"2.8-7.8\", \"2.8-7.8\", None, None],\n",
    "    \"Sample Type\": [\"Reg\", \"Reg\", \"FD\", \"Reg\", \"Reg\"],\n",
    "    \"Water Type\": [\"Groundwater\", \"Groundwater\", \"Groundwater\", \"Stormwater\", \"Stormwater\"],\n",
    "    \"PFOS\": [96,66,61,50,250],\n",
    "    \"PFOA\": [13,12,11,7.3,21],\n",
    "    \"PFOS+PFOA\": [109, 78, 72, 57.3, 271],\n",
    "    \"PFBS\": [27,5.1,4.4,11,22],\n",
    "    \"PFHpA\": [5.1,3.2,3.6,3.5,8.4],\n",
    "    \"PFHxS\": [130,75,68,59,190],\n",
    "    \"PFNA\": [\"1.4U\", \"1.3J\", \"1.4J\", \"0.8J\", \"1.3J\"]\n",
    "}\n",
    "\n",
    "table1 = pd.DataFrame(table1_dict)\n",
    "table1.to_csv(\"tennessee1.csv\")"
   ]
  },
  {
   "cell_type": "markdown",
   "id": "622bc628",
   "metadata": {},
   "source": [
    "# Table 2"
   ]
  },
  {
   "cell_type": "code",
   "execution_count": 3,
   "id": "bc0dd7c4",
   "metadata": {},
   "outputs": [
    {
     "data": {
      "text/plain": [
       "<TableList n=4>"
      ]
     },
     "execution_count": 3,
     "metadata": {},
     "output_type": "execute_result"
    }
   ],
   "source": [
    "tables = camelot.read_pdf(\"tennessee2.pdf\", pages = \"all\")\n",
    "tables"
   ]
  },
  {
   "cell_type": "code",
   "execution_count": 4,
   "id": "9fc55dec",
   "metadata": {},
   "outputs": [],
   "source": [
    "# clean table 1\n",
    "table1 = tables[0].df\n",
    "table1.iloc[6, 1:7] = [\"PFOS\", \"0.0071\", \"0.126\", \"mg/kg\", \"2/0\", \"No\"]\n",
    "table1.iloc[7, 1:7] = [\"PFOA\",\"0.00108 J\",\"0.126\", \"mg/kg\",\"2/0\", \"No\"]\n",
    "table1.iloc[8, 1:7] = [\"PFBS\", \"ND\", \"130\", \"mg/kg\", \"2/0\", \"No\"]\n",
    "table1 = table1.replace(\"\\n\", \" \", regex = True)\n",
    "table1.columns = table1.iloc[0]\n",
    "table1 = table1.drop(0)\n",
    "\n",
    "# clean table 2\n",
    "table2 = tables[1].df.replace(\"\\n\", \" \", regex = True)\n",
    "table2.columns = table2.iloc[0]\n",
    "table2 = table2.drop(0)\n",
    "\n",
    "# clean table 3\n",
    "table3 = tables[2].df.replace(\"\\n\", \" \", regex = True)\n",
    "table3.iloc[27, 1:7] = [\"PFOS\", \"0.0483\", \"0.126\", \"mg/kg\", \"1/0\", \"No\"]\n",
    "table3.columns = table3.iloc[0]\n",
    "table3 = table3.drop(0)\n",
    "\n",
    "# clean table 4\n",
    "table4 = tables[3].df.replace(\"\\n\", \" \", regex = True)\n",
    "table4.columns = table4.iloc[0]\n",
    "table4 = table4.drop(0)\n",
    "\n",
    "# combine all the tables together\n",
    "tennessee2 = pd.concat([table1, table2, table3, table4], ignore_index=True)\n",
    "\n",
    "mediums = tennessee2[\"Parameter\"].str.strip()\n",
    "# Iterate over the series and replace chemical names with the medium sampled from the previous row\n",
    "for i in range(1, len(mediums)):\n",
    "    if mediums[i] in [\"PFOS\", \"PFOA\", \"PFOS+PFOA\", \"PFBS\"]:\n",
    "        mediums[i] = mediums[i-1]\n",
    "        \n",
    "tennessee2[\"Sample Medium\"] = mediums\n",
    "tennessee2[tennessee2.columns[0]] = tennessee2[tennessee2.columns[0]].replace('', None).fillna(method = \"ffill\") \n",
    "tennessee2 = tennessee2[tennessee2[\"Units\"] != '']\n",
    "tennessee2.to_csv(\"tennessee2.csv\")"
   ]
  },
  {
   "cell_type": "markdown",
   "id": "3144ae99",
   "metadata": {},
   "source": [
    "# Table 3"
   ]
  },
  {
   "cell_type": "code",
   "execution_count": 5,
   "id": "11e38b5b",
   "metadata": {},
   "outputs": [],
   "source": [
    "table3_dict = {\n",
    "    \"Sampling Location\": [\"18-MW01\", \"MW7-14\", \"MW8A-08\", \"MW8A-08\", \"MW-TYS06-01\", \"MW8B-06\", \"MW6-04\", \"TYS12-SW1\"],\n",
    "    \"Sample Identifier\": [\"18-MW01-PRL04-01\", \"MW7-14-PRL05-01\", \"MW8A-08-PRL06-01\", \"MW8A-08-PRL06-01D\", \"MW-TYS06-01-01\", \"MW8B-06-PRL08-01\", \"MW6-04-PRL12-01\", \"TYS12-SW1-01\"],\n",
    "    \"Sample Date\": [\"10/09/18\",\"10/08/18\",\"10/08/18\",\"10/08/18\",\"10/09/18\",\"10/08/18\",\"10/10/18\", \"02/27/18\"],\n",
    "    \"Screened Interval (ft BGS)\": [None, None, None, None, \"35-60\", \"31.2-46.2\", \"55.8-65.7\", None],\n",
    "    \"Sample Type\": [\"Reg\", \"Reg\", \"Reg\", \"FD\", \"Reg\", \"Reg\", \"Reg\", \"Reg\"],\n",
    "    \"Water Type\": [\"Groundwater\", \"Groundwater\", \"Groundwater\", \"Groundwater\",\"Groundwater\",\"Groundwater\",\"Groundwater\",\"Surfacewater\"],\n",
    "    \"PFOS\": [\"1900J\", 160, \"550J\", \"530J\", \"4300J\", \"1100J\", \"3300J\",\"760J\"],\n",
    "    \"PFOA\": [120,9,130,130,\"630J\",140,73,68],\n",
    "    \"PFOS+PFOA\": [\"2020J\", 169, \"680J\", \"660J\", \"4930J\", \"1240J\", \"3373J\",\"828J\"],\n",
    "    \"PFBS\": [19,9.5,33,32,\"190J\",48,42,35],\n",
    "    \"PFHpA\": [190,5.9,71,73,210,140,54,\"60J\"],\n",
    "    \"PFHxS\": [\"440J\",120,\"530J\",\"500J\",\"2000J\",\"790J\",\"440J\",\"780J\"],\n",
    "    \"PFNA\": [15,\"1.2J\",10,11,25,12,5.5,11]\n",
    "}\n",
    "\n",
    "table3 = pd.DataFrame(table3_dict)\n",
    "table3.to_csv(\"tennessee3.csv\")"
   ]
  },
  {
   "cell_type": "markdown",
   "id": "4569186b",
   "metadata": {},
   "source": [
    "# Table 4"
   ]
  },
  {
   "cell_type": "code",
   "execution_count": 6,
   "id": "5d72ca29",
   "metadata": {},
   "outputs": [],
   "source": [
    "table4_dict = {\n",
    "    \"Sample Location\": [\"002G02DA\", \"002G05DA\", \"009TW01\", \"009TW02\", \"009TW02\"],\n",
    "    \"Sample Site\": [\"SWMU 2\", \"SWMU 2\", \"SWMU 9\", \"SWMU 9\", \"SWMU 9\"],\n",
    "    \"Sample ID\": [\"002G02DA-040820\", \"002G05DA-040820\", \"009TW01-040820\", \"009TW02-040820\", \"009TW02-040820-D\"],\n",
    "    \"Sample Date\": [\"04/08/20\",\"04/08/20\",\"04/08/20\",\"04/08/20\",\"04/08/20\"],\n",
    "    \"Matrix\": [\"GW\",\"GW\",\"GW\",\"GW\",\"GW\"],\n",
    "    \"PFOA\": [\"0.85J\", \"1.42J\", \"1.36U\", \"1.44U\", \"1.44U\"],\n",
    "    \"PFOS\": [\"1.01J\", \"0.89U\", \"0.91J\", \"2.77J\", \"2.58J\"],\n",
    "    \"PFBS\": [\"3.31J\", \"2.71J\", \"0.48J\", \"0.55J\", \"0.59J\"]\n",
    "}\n",
    "\n",
    "table4 = pd.DataFrame(table4_dict)\n",
    "table4.to_csv(\"tennessee4.csv\")"
   ]
  }
 ],
 "metadata": {
  "kernelspec": {
   "display_name": "Python 3 (ipykernel)",
   "language": "python",
   "name": "python3"
  },
  "language_info": {
   "codemirror_mode": {
    "name": "ipython",
    "version": 3
   },
   "file_extension": ".py",
   "mimetype": "text/x-python",
   "name": "python",
   "nbconvert_exporter": "python",
   "pygments_lexer": "ipython3",
   "version": "3.9.18"
  }
 },
 "nbformat": 4,
 "nbformat_minor": 5
}
