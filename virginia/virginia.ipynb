{
 "cells": [
  {
   "cell_type": "code",
   "execution_count": 1,
   "id": "b6a60e5e",
   "metadata": {},
   "outputs": [],
   "source": [
    "import pandas as pd\n",
    "import numpy as np\n",
    "import camelot\n",
    "import warnings\n",
    "warnings.filterwarnings('ignore')"
   ]
  },
  {
   "cell_type": "markdown",
   "id": "5a505d05",
   "metadata": {},
   "source": [
    "# PDF 1"
   ]
  },
  {
   "cell_type": "code",
   "execution_count": 2,
   "id": "cc532579",
   "metadata": {},
   "outputs": [],
   "source": [
    "virginia1 = camelot.read_pdf('virginia1.pdf')\n",
    "virginia1_df = virginia1[0].df"
   ]
  },
  {
   "cell_type": "code",
   "execution_count": 3,
   "id": "03851837",
   "metadata": {},
   "outputs": [],
   "source": [
    "virginia1_df[\"1_copy\"] = virginia1_df[1]\n",
    "column_order = [0, 1] + [\"1_copy\"] + list(range(2, 15))\n",
    "virginia1_df = virginia1_df[column_order]\n",
    "virginia1_df.columns = np.arange(0, 16)\n",
    "\n",
    "# remove \\n in the first three rows of the table\n",
    "for i in np.arange(3):\n",
    "    virginia1_df.iloc[i] = virginia1_df.iloc[i].str.replace('\\n', '')\n",
    "\n",
    "virginia1_df[0] = virginia1_df[0].str.replace(\"\\n\", '')"
   ]
  },
  {
   "cell_type": "code",
   "execution_count": 4,
   "id": "28134e19",
   "metadata": {},
   "outputs": [],
   "source": [
    "def scrape_text(text):\n",
    "    text_sequence = text.split(\"\\n\")\n",
    "    if len(text_sequence) == 1:\n",
    "        return text_sequence[0]\n",
    "    else:\n",
    "        return text_sequence[1]\n",
    "\n",
    "virginia1_df[2] = virginia1_df[2].apply(scrape_text)"
   ]
  },
  {
   "cell_type": "code",
   "execution_count": 5,
   "id": "a4a8b260",
   "metadata": {},
   "outputs": [],
   "source": [
    "# Iterate over the series elements\n",
    "def fix_rows(row):\n",
    "    for idx, val in row.items():\n",
    "        parts = val.split('\\n')\n",
    "        if len(parts) > 1:\n",
    "            # Assign the first part\n",
    "            row[idx] = parts[0].strip()  \n",
    "            # Assign the second part to the next index\n",
    "            row[idx + 1] = parts[1].strip() \n",
    "    return row\n",
    "\n",
    "for i in np.arange(4, virginia1_df.shape[0]):\n",
    "    cleaned_row = fix_rows(virginia1_df.iloc[i])\n",
    "    virginia1_df.iloc[i] = cleaned_row\n",
    "\n",
    "# manually adjust edge cases\n",
    "virginia1_df.iloc[3, 1] = \"Finished\"\n",
    "virginia1_df.iloc[10, 14] = 54.0\n",
    "\n",
    "# adjust the null spaces in the first two rows\n",
    "virginia1_df.iloc[0] = virginia1_df.iloc[0].replace('', None).fillna(method = 'ffill')\n",
    "virginia1_df.iloc[1] = virginia1_df.iloc[1].replace('', None).fillna(method = 'ffill')\n",
    "\n",
    "# set columns \n",
    "virginia1_df.columns = virginia1_df.iloc[0]\n",
    "virginia1_df = virginia1_df.drop(virginia1_df.index[0])"
   ]
  },
  {
   "cell_type": "code",
   "execution_count": 7,
   "id": "85d3dd93",
   "metadata": {
    "scrolled": true
   },
   "outputs": [],
   "source": [
    "virginia1_df.to_csv(\"virginia1.csv\")"
   ]
  },
  {
   "cell_type": "markdown",
   "id": "972efaae",
   "metadata": {},
   "source": [
    "# PDF 2"
   ]
  },
  {
   "cell_type": "code",
   "execution_count": 34,
   "id": "2fca5269",
   "metadata": {},
   "outputs": [],
   "source": [
    "virginia2_tables = camelot.read_pdf('virginia2.pdf', pages = '1,2,3')"
   ]
  },
  {
   "cell_type": "code",
   "execution_count": 35,
   "id": "5262d507",
   "metadata": {},
   "outputs": [],
   "source": [
    "def clean_table(table, start_col, end_col):\n",
    "    # replace \"\\n\"\n",
    "    for i in np.arange(4):\n",
    "        table.iloc[i] = table.iloc[i].str.replace('\\n', ' ')\n",
    "    \n",
    "    # reformat the columns\n",
    "    for i in np.arange(start_col, end_col + 1):\n",
    "        # grab the current column\n",
    "        split_values = table.iloc[4, i].split('\\n')\n",
    "        for idx, val in enumerate(split_values):\n",
    "            table.iloc[(4+idx), i] = val"
   ]
  },
  {
   "cell_type": "code",
   "execution_count": 36,
   "id": "5d0fb114",
   "metadata": {
    "scrolled": true
   },
   "outputs": [],
   "source": [
    "virginia2 = virginia2_tables[0].df\n",
    "clean_table(virginia2, 1, 8)\n",
    "virginia2.to_csv(\"virginia2.csv\")"
   ]
  },
  {
   "cell_type": "code",
   "execution_count": 37,
   "id": "17781d94",
   "metadata": {},
   "outputs": [],
   "source": [
    "virginia3 = virginia2_tables[1].df\n",
    "clean_table(virginia3, 1, 8)\n",
    "virginia3.to_csv(\"virginia3.csv\")"
   ]
  },
  {
   "cell_type": "code",
   "execution_count": 38,
   "id": "6646d2fe",
   "metadata": {},
   "outputs": [],
   "source": [
    "virginia4 = virginia2_tables[2].df\n",
    "clean_table(virginia4, 1, 8)\n",
    "virginia4.to_csv(\"virginia4.csv\")"
   ]
  }
 ],
 "metadata": {
  "kernelspec": {
   "display_name": "Python 3 (ipykernel)",
   "language": "python",
   "name": "python3"
  },
  "language_info": {
   "codemirror_mode": {
    "name": "ipython",
    "version": 3
   },
   "file_extension": ".py",
   "mimetype": "text/x-python",
   "name": "python",
   "nbconvert_exporter": "python",
   "pygments_lexer": "ipython3",
   "version": "3.9.18"
  }
 },
 "nbformat": 4,
 "nbformat_minor": 5
}
